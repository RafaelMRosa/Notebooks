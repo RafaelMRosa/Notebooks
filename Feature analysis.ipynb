{
 "cells": [
  {
   "cell_type": "code",
   "execution_count": 2,
   "metadata": {},
   "outputs": [],
   "source": [
    "import numpy as np\n",
    "import pandas as pd\n",
    "from datetime import datetime\n",
    "from datetime import timedelta\n",
    "from sklearn.metrics import accuracy_score,log_loss,precision_score,f1_score\n",
    "\n",
    "from mlfinlab.cross_validation.cross_validation import ml_get_train_times,ml_cross_val_score,PurgedKFold\n",
    "from mlfinlab.feature_importance.importance import (mean_decrease_impurity, mean_decrease_accuracy,\n",
    "                                                    single_feature_importance, plot_feature_importance)\n",
    "from mlfinlab.feature_importance.orthogonal import (feature_pca_analysis, get_pca_rank_weighted_kendall_tau,\n",
    "                                                    get_orthogonal_features,_standardize_df,_get_eigen_vector)\n",
    "from sklearn.ensemble import RandomForestClassifier, RandomForestRegressor, BaggingClassifier\n",
    "from sklearn.tree import DecisionTreeClassifier\n",
    "\n",
    "from sklearn.metrics import roc_curve, auc, f1_score, accuracy_score\n",
    "\n",
    "from mlfinlab.backtest_statistics.statistics import (timing_of_flattening_and_flips, average_holding_period,\n",
    "                                                     bets_concentration, all_bets_concentration,\n",
    "                                                     drawdown_and_time_under_water, sharpe_ratio,\n",
    "                                                     information_ratio, probabilistic_sharpe_ratio,\n",
    "                                                     deflated_sharpe_ratio, minimum_track_record_length)\n",
    "from mlfinlab.cross_validation.combinatorial import CombinatorialPurgedKFold\n",
    "\n",
    "\n",
    "import warnings\n",
    "warnings.filterwarnings(\"ignore\")"
   ]
  },
  {
   "cell_type": "code",
   "execution_count": 3,
   "metadata": {},
   "outputs": [],
   "source": [
    "def getTestData(n_features=40,n_informative=10,n_redundant=10,n_samples=10000):\n",
    "    # generate a random dataset for a classification problem\n",
    "    #From: Advances in Financial Machine Learning \n",
    "\n",
    "    from sklearn.datasets import make_classification\n",
    "    trnsX,cont=make_classification(n_samples=n_samples,\n",
    "                                   n_features=n_features,\n",
    "                                   n_informative=n_informative,\n",
    "                                   n_redundant=n_redundant,\n",
    "                                   random_state=0,\n",
    "                                   shuffle=False)\n",
    "    df0=pd.DatetimeIndex(periods=n_samples,freq=pd.tseries.offsets.BDay(), end=pd.datetime.today())\n",
    "    trnsX,cont=pd.DataFrame(trnsX,index=df0), pd.Series(cont,index=df0).to_frame('bin')\n",
    "    df0=['I_'+str(i) for i in range(n_informative)] + ['R_'+str(i) for i in range(n_redundant)]\n",
    "    df0+=['N_'+str(i) for i in range(n_features-len(df0))]\n",
    "    trnsX.columns=df0\n",
    "    cont['w']=1./cont.shape[0]\n",
    "    cont['t1']=pd.Series(cont.index,index=cont.index)\n",
    "    return trnsX,cont"
   ]
  },
  {
   "cell_type": "markdown",
   "metadata": {},
   "source": [
    "# Feature analysis\n",
    "\n",
    "1) Generate synthetic Matrix (X,y) and peforme feature analysis: MDI, MDA and SFI\n",
    "\n",
    "2) Mean Decrease Impurity (MDI) - In sample sample exclusive for tree-based classifiers\n",
    "\n",
    "\"At each node of each decision tree, the selected feature splits the subset it received in such a way that impurity is\" [1]\n",
    "\n",
    "3) Mean Decrease Accuracy (MDA) - Out of sample \n",
    "\n",
    "\"Mean decrease accuracy (MDA) is a slow, predictive-importance (out-of-sample, OOS)method.\" [1]\n",
    "\n",
    "4) Single Feature Analysis (SFI)\n",
    "\n",
    "\"Single feature importance (SFI) is a cross-section predictive-importance (out-of- sample) method. It computes the OOS performance score of each feature in isolation.\" [1]\n",
    "\n",
    "[1] - Advances in Financial Machine Learning -Chapter 8"
   ]
  },
  {
   "cell_type": "code",
   "execution_count": 4,
   "metadata": {},
   "outputs": [],
   "source": [
    "_,cont=getTestData(5,3,2,10)\n"
   ]
  },
  {
   "cell_type": "markdown",
   "metadata": {},
   "source": [
    "I - Informative features\n",
    "\n",
    "R - Redundant features\n",
    "\n",
    "N - Non-informative features (noise)\n",
    "\n",
    "Y = Y(I,R)"
   ]
  },
  {
   "cell_type": "code",
   "execution_count": 5,
   "metadata": {},
   "outputs": [],
   "source": [
    "size = 200\n",
    "np.random.seed(seed=10)\n",
    "X_seed = np.random.normal(0, 1, size)\n",
    "sig=0.4\n",
    "I0 = X_seed + np.random.normal(0, sig, size)\n",
    "I1 = X_seed + np.random.normal(0, sig, size)\n",
    "I2 = X_seed + np.random.normal(0, sig, size)\n",
    "R0 = X_seed + np.random.normal(0, sig, size)\n",
    "R1 = 1.5*R0\n",
    "R2 = R1\n",
    "N0 =        + np.random.normal(0, sig, size)\n",
    "N1 =        + np.random.normal(0, sig, size)\n",
    "N2 =        + np.random.normal(0, sig, size)\n",
    "N3 =        + np.random.normal(0, sig, size)\n",
    "\n",
    "Y = I0 + I1 + I2 + R0 + R1 + R2\n",
    "data=pd.DataFrame({'Y':Y})\n",
    "data['I_0']=I0\n",
    "data['I_1']=I1\n",
    "data['I_2']=I2\n",
    "data['R_0']=R0\n",
    "data['R_1']=R1\n",
    "data['R_2']=R2\n",
    "data['N_0']=N0\n",
    "data['N_1']=N1\n",
    "data['N_2']=N2\n",
    "data['N_3']=N3\n",
    "\n",
    "#print (data)\n",
    "yft=data.columns.values[0]\n",
    "xft=data.columns.values[1:]"
   ]
  },
  {
   "cell_type": "code",
   "execution_count": 14,
   "metadata": {},
   "outputs": [
    {
     "name": "stdout",
     "output_type": "stream",
     "text": [
      "Random Forest fitted\n"
     ]
    }
   ],
   "source": [
    "xdata=data[xft]\n",
    "ydata=np.sign(data[yft])\n",
    "\n",
    "n_estimator=1000\n",
    "rf=DecisionTreeClassifier(criterion='entropy',max_features=1,#None,\n",
    "                          class_weight='balanced',min_weight_fraction_leaf=0.0)\n",
    "\n",
    "\n",
    "rf=BaggingClassifier(base_estimator=rf,n_estimators=n_estimator,max_features=1.,#max_samples=max_samples,\n",
    "                     oob_score=True)\n",
    "\n",
    "\n",
    "rf.fit(xdata,ydata)\n",
    "print ('Random Forest fitted')\n",
    "\n",
    "t1 = [base - timedelta(days=x) for x in range(numdays,0,-1)]\n",
    "t1=pd.DataFrame({'t1':t1})\n",
    "t1=t1.set_index(t1.t1)\n",
    "t1['t1']=t1['t1']\n",
    "cv_gen=PurgedKFold(10,t1.t1)"
   ]
  },
  {
   "cell_type": "markdown",
   "metadata": {},
   "source": [
    "### MDI"
   ]
  },
  {
   "cell_type": "code",
   "execution_count": 15,
   "metadata": {},
   "outputs": [
    {
     "data": {
      "image/png": "[encoded data removed]",
      "text/plain": [
       "<Figure size 720x144 with 1 Axes>"
      ]
     },
     "metadata": {
      "needs_background": "light"
     },
     "output_type": "display_data"
    },
    {
     "name": "stdout",
     "output_type": "stream",
     "text": [
      "minimum importance: 0.1\n"
     ]
    }
   ],
   "source": [
    "imp = mean_decrease_impurity(rf,xft)\n",
    "plot_feature_importance(imp,0,0)\n",
    "print ('minimum importance:',1/len(xft))"
   ]
  },
  {
   "cell_type": "markdown",
   "metadata": {},
   "source": [
    "### MDA"
   ]
  },
  {
   "cell_type": "code",
   "execution_count": 16,
   "metadata": {},
   "outputs": [
    {
     "data": {
      "image/png": "[encoded data removed]",
      "text/plain": [
       "<Figure size 720x144 with 1 Axes>"
      ]
     },
     "metadata": {
      "needs_background": "light"
     },
     "output_type": "display_data"
    }
   ],
   "source": [
    "mda=mean_decrease_accuracy(rf,xdata,ydata,cv_gen,scoring=log_loss)\n",
    "\n",
    "plot_feature_importance(mda,0,0)\n"
   ]
  },
  {
   "cell_type": "markdown",
   "metadata": {},
   "source": [
    "### SFI"
   ]
  },
  {
   "cell_type": "code",
   "execution_count": 25,
   "metadata": {},
   "outputs": [
    {
     "data": {
      "image/png": "[encoded data removed]",
      "text/plain": [
       "<Figure size 720x144 with 1 Axes>"
      ]
     },
     "metadata": {
      "needs_background": "light"
     },
     "output_type": "display_data"
    }
   ],
   "source": [
    "sfi=single_feature_importance(rf,xdata,ydata,cv_gen,scoring=accuracy_score)\n",
    "\n",
    "plot_feature_importance(sfi,0,0)\n"
   ]
  },
  {
   "cell_type": "markdown",
   "metadata": {},
   "source": [
    "# PCA analysis"
   ]
  },
  {
   "cell_type": "code",
   "execution_count": 20,
   "metadata": {},
   "outputs": [
    {
     "name": "stdout",
     "output_type": "stream",
     "text": [
      "Eigen values:\n",
      "\n",
      "PCA_0    1094.587941\n",
      "PCA_1     242.920648\n",
      "PCA_2     198.054522\n",
      "PCA_3     180.754070\n",
      "PCA_4     173.942822\n",
      "PCA_5      49.859616\n",
      "PCA_6      29.263338\n",
      "PCA_7      20.617042\n",
      "dtype: float64\n",
      "      PCA_0     PCA_1     PCA_2     PCA_3     PCA_4     PCA_5     PCA_6  \\\n",
      "0  3.299290  0.759680  1.452347 -0.540760  1.474209  0.126774 -0.130131   \n",
      "1  1.553449 -0.309398  0.437784 -0.822939  0.529945 -0.230467  0.308447   \n",
      "2 -3.356231 -1.150411  1.170876 -0.547521  1.308322 -0.855631 -0.254309   \n",
      "3 -0.009526  1.584539  0.865854 -0.313115  0.433659 -0.030279  0.242042   \n",
      "4  1.625890  0.492901  0.575790  1.332189 -0.024888 -0.810630 -0.511538   \n",
      "\n",
      "      PCA_7  \n",
      "0 -0.095705  \n",
      "1  0.638620  \n",
      "2 -0.238369  \n",
      "3 -0.177706  \n",
      "4  0.181503  \n"
     ]
    }
   ],
   "source": [
    "X=data[xft].copy()\n",
    "Z=X.sub(X.mean(), axis=1).div(X.std(), axis=1)\n",
    "ZtZ=pd.DataFrame(np.dot(Z.T,Z),index=X.columns,columns=X.columns)\n",
    "eVal,eVec=np.linalg.eigh(ZtZ)\n",
    "idx=eVal.argsort()[::-1]\n",
    "eVal=eVal[idx]\n",
    "#eVal=pd.Series(eVal,index=['PC_'+str(i+1) for i in range(eVal.shape[0])])\n",
    "th=0.999\n",
    "eVal,eVec=_get_eigen_vector(ZtZ, th)\n",
    "\n",
    "Xdot = pd.DataFrame(get_orthogonal_features(X,th), index=X.index).add_prefix(\"PCA_\")\n",
    "Xdot.head()\n",
    "#eVal=eVal.reset_index()#index=Xdot.index)\n",
    "#eVal=eVal.reindex(Xdot.columns)\n",
    "eVal=pd.Series(eVal.values,index=Xdot.columns)\n",
    "\n",
    "print ('Eigen values:\\n')\n",
    "print (eVal)\n",
    "print (Xdot.head())"
   ]
  },
  {
   "cell_type": "code",
   "execution_count": 21,
   "metadata": {},
   "outputs": [],
   "source": [
    "RANDOM_STATE=100\n",
    "n_estimator=1000\n",
    "maxsamples=1\n",
    "rf=DecisionTreeClassifier(criterion='entropy',\n",
    "                          max_features=1,#None,#1,\n",
    "                          class_weight='balanced',\n",
    "                          min_weight_fraction_leaf=0.0)\n",
    "\n",
    "rf=BaggingClassifier(base_estimator=rf,\n",
    "                     n_estimators=n_estimator,\n",
    "                     max_features=1.,\n",
    "                     #max_samples=maxsamples,\n",
    "                     oob_score=True)\n",
    "\n",
    "Y=np.sign(data[yft])\n",
    "Xpca=Xdot.copy()\n",
    "\n",
    "base = datetime.today()\n",
    "numdays=len(Xpca)\n",
    "t1 = [base - timedelta(days=x) for x in range(numdays,0,-1)]\n",
    "t1=pd.DataFrame({'t1':t1})\n",
    "t1=t1.set_index(t1.t1)\n",
    "t1['t1']=t1['t1']\n",
    "w=[1/len(cont) for x in range(numdays)]\n",
    "w=pd.DataFrame({'w':w})\n",
    "w=w.set_index(w.w)\n",
    "\n",
    "rf.fit(Xpca,Y)\n",
    "cv_gen=PurgedKFold(10,t1.t1)"
   ]
  },
  {
   "cell_type": "markdown",
   "metadata": {},
   "source": [
    "### PCA MDI"
   ]
  },
  {
   "cell_type": "code",
   "execution_count": 22,
   "metadata": {},
   "outputs": [
    {
     "data": {
      "image/png": "[encoded data removed]",
      "text/plain": [
       "<Figure size 720x115.2 with 1 Axes>"
      ]
     },
     "metadata": {
      "needs_background": "light"
     },
     "output_type": "display_data"
    },
    {
     "name": "stdout",
     "output_type": "stream",
     "text": [
      "minimum importance: 0.1\n"
     ]
    },
    {
     "data": {
      "text/plain": [
       "{'Pearson': (0.04709331611667207, 0.7117354772171212),\n",
       " 'Spearman': SpearmanrResult(correlation=0.06607802824841759, pvalue=0.6039190335863593),\n",
       " 'Kendall': KendalltauResult(correlation=0.05261211169542764, pvalue=0.5588757555981987),\n",
       " 'Weighted_Kendall_Rank': WeightedTauResult(correlation=0.35948939365496535, pvalue=nan)}"
      ]
     },
     "execution_count": 22,
     "metadata": {},
     "output_type": "execute_result"
    },
    {
     "data": {
      "image/png": "[encoded data removed]",
      "text/plain": [
       "<Figure size 432x288 with 1 Axes>"
      ]
     },
     "metadata": {
      "needs_background": "light"
     },
     "output_type": "display_data"
    }
   ],
   "source": [
    "import matplotlib.pyplot as plt\n",
    "imp = mean_decrease_impurity(rf,Xpca.columns)\n",
    "plot_feature_importance(imp,0,0)\n",
    "print ('minimum importance:',1/len(xft))\n",
    "fig,aux=plt.subplots()\n",
    "aux.scatter(eVal.loc[imp.index],imp['mean'])\n",
    "aux.set_yscale('log')\n",
    "feature_pca_analysis(Xpca,imp)"
   ]
  },
  {
   "cell_type": "markdown",
   "metadata": {},
   "source": [
    "### PCA MDA"
   ]
  },
  {
   "cell_type": "code",
   "execution_count": 23,
   "metadata": {},
   "outputs": [
    {
     "data": {
      "image/png": "[encoded data removed]",
      "text/plain": [
       "<Figure size 720x115.2 with 1 Axes>"
      ]
     },
     "metadata": {
      "needs_background": "light"
     },
     "output_type": "display_data"
    }
   ],
   "source": [
    "#MDA\n",
    "imp=mean_decrease_accuracy(rf,Xpca,Y,cv_gen,scoring=log_loss)\n",
    "plot_feature_importance(imp,0,0)\n"
   ]
  },
  {
   "cell_type": "markdown",
   "metadata": {},
   "source": [
    "### PCA SFI"
   ]
  },
  {
   "cell_type": "code",
   "execution_count": 26,
   "metadata": {},
   "outputs": [
    {
     "data": {
      "image/png": "[encoded data removed]",
      "text/plain": [
       "<Figure size 720x115.2 with 1 Axes>"
      ]
     },
     "metadata": {
      "needs_background": "light"
     },
     "output_type": "display_data"
    }
   ],
   "source": [
    "#SFI\n",
    "imp=single_feature_importance(rf,Xpca,Y,cv_gen,scoring=accuracy_score)\n",
    "plot_feature_importance(imp,0,0)\n"
   ]
  },
  {
   "cell_type": "code",
   "execution_count": null,
   "metadata": {},
   "outputs": [],
   "source": []
  }
 ],
 "metadata": {
  "kernelspec": {
   "display_name": "Python 3",
   "language": "python",
   "name": "python3"
  },
  "language_info": {
   "codemirror_mode": {
    "name": "ipython",
    "version": 3
   },
   "file_extension": ".py",
   "mimetype": "text/x-python",
   "name": "python",
   "nbconvert_exporter": "python",
   "pygments_lexer": "ipython3",
   "version": "3.6.9"
  }
 },
 "nbformat": 4,
 "nbformat_minor": 4
}
