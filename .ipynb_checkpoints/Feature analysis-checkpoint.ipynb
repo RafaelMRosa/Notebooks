{
 "cells": [
  {
   "cell_type": "code",
   "execution_count": 1,
   "metadata": {},
   "outputs": [],
   "source": [
    "import numpy as np\n",
    "import pandas as pd\n",
    "from datetime import datetime\n",
    "from datetime import timedelta\n",
    "import seaborn as sns\n",
    "from sklearn.metrics import accuracy_score,log_loss,precision_score,f1_score\n",
    "\n",
    "from mlfinlab.cross_validation.cross_validation import ml_get_train_times,ml_cross_val_score,PurgedKFold\n",
    "from mlfinlab.feature_importance.importance import (mean_decrease_impurity, mean_decrease_accuracy,\n",
    "                                                    single_feature_importance, plot_feature_importance)\n",
    "from mlfinlab.feature_importance.orthogonal import (feature_pca_analysis, get_pca_rank_weighted_kendall_tau,\n",
    "                                                    get_orthogonal_features,_standardize_df,_get_eigen_vector)\n",
    "from sklearn.ensemble import RandomForestClassifier, RandomForestRegressor, BaggingClassifier\n",
    "from sklearn.tree import DecisionTreeClassifier\n",
    "\n",
    "from sklearn.metrics import roc_curve, auc, f1_score, accuracy_score\n",
    "\n",
    "from mlfinlab.backtest_statistics.statistics import (timing_of_flattening_and_flips, average_holding_period,\n",
    "                                                     bets_concentration, all_bets_concentration,\n",
    "                                                     drawdown_and_time_under_water, sharpe_ratio,\n",
    "                                                     information_ratio, probabilistic_sharpe_ratio,\n",
    "                                                     deflated_sharpe_ratio, minimum_track_record_length)\n",
    "from mlfinlab.cross_validation.combinatorial import CombinatorialPurgedKFold\n",
    "from mlfinlab.util.generate_dataset import get_classification_data \n",
    "\n",
    "\n",
    "import warnings\n",
    "warnings.filterwarnings(\"ignore\")"
   ]
  },
  {
   "cell_type": "code",
   "execution_count": 2,
   "metadata": {},
   "outputs": [],
   "source": [
    "def getTestData(n_features=40,n_informative=10,n_redundant=10,n_samples=10000):\n",
    "    # generate a random dataset for a classification problem\n",
    "    #From: Advances in Financial Machine Learning \n",
    "\n",
    "    from sklearn.datasets import make_classification\n",
    "    trnsX,cont=make_classification(n_samples=n_samples,\n",
    "                                   n_features=n_features,\n",
    "                                   n_informative=n_informative,\n",
    "                                   n_redundant=n_redundant,\n",
    "                                   random_state=0,\n",
    "                                   shuffle=False)\n",
    "    df0=pd.DatetimeIndex(periods=n_samples,freq=pd.tseries.offsets.BDay(), end=pd.datetime.today())\n",
    "    trnsX,cont=pd.DataFrame(trnsX,index=df0), pd.Series(cont,index=df0).to_frame('bin')\n",
    "    df0=['I_'+str(i) for i in range(n_informative)] + ['R_'+str(i) for i in range(n_redundant)]\n",
    "    df0+=['N_'+str(i) for i in range(n_features-len(df0))]\n",
    "    trnsX.columns=df0\n",
    "    cont['w']=1./cont.shape[0]\n",
    "    cont['t1']=pd.Series(cont.index,index=cont.index)\n",
    "    return trnsX,cont"
   ]
  },
  {
   "cell_type": "markdown",
   "metadata": {},
   "source": [
    "# Feature analysis\n",
    "\n",
    "1) Generate synthetic Matrix (X,y) and peforme feature analysis: MDI, MDA and SFI\n",
    "\n",
    "2) Mean Decrease Impurity (MDI) - In sample sample exclusive for tree-based classifiers\n",
    "\n",
    "\"At each node of each decision tree, the selected feature splits the subset it received in such a way that impurity is\" [1]\n",
    "\n",
    "3) Mean Decrease Accuracy (MDA) - Out of sample \n",
    "\n",
    "\"Mean decrease accuracy (MDA) is a slow, predictive-importance (out-of-sample, OOS)method.\" [1]\n",
    "\n",
    "4) Single Feature Analysis (SFI)\n",
    "\n",
    "\"Single feature importance (SFI) is a cross-section predictive-importance (out-of- sample) method. It computes the OOS performance score of each feature in isolation.\" [1]\n",
    "\n",
    "[1] - Advances in Financial Machine Learning -Chapter 8"
   ]
  },
  {
   "cell_type": "code",
   "execution_count": 3,
   "metadata": {},
   "outputs": [],
   "source": [
    "_,cont=getTestData(5,3,2,10)\n",
    "xx,yy=get_classification_data(n_features=40,n_informative=5,n_redundant=25,n_samples=100,sigma=0.1)\n",
    "data=xx\n",
    "data['Y']=yy\n",
    "yft=data.columns.values[-1]\n",
    "xft=data.columns.values[:-1]"
   ]
  },
  {
   "cell_type": "markdown",
   "metadata": {},
   "source": [
    "I - Informative features\n",
    "\n",
    "R - Redundant features\n",
    "\n",
    "N - Non-informative features (noise)\n",
    "\n",
    "Y = Y(I,R)"
   ]
  },
  {
   "cell_type": "code",
   "execution_count": 4,
   "metadata": {},
   "outputs": [],
   "source": [
    "size = 200\n",
    "np.random.seed(seed=10)\n",
    "X_seed = np.random.normal(0, 1, size)\n",
    "sig=0.4\n",
    "I0 = X_seed + np.random.normal(0, sig, size)\n",
    "I1 = X_seed + np.random.normal(0, 2*sig, size)\n",
    "I2 = X_seed + np.random.normal(0, 10*sig, size)\n",
    "R0 = X_seed + np.random.normal(0, sig, size)\n",
    "R1 = 1.5*R0\n",
    "R2 = R1\n",
    "N0 =        + np.random.normal(0, sig, size)\n",
    "N1 =        + np.random.normal(0, sig, size)\n",
    "N2 =        + np.random.normal(0, 5*sig, size)\n",
    "N3 =        + np.random.normal(0, sig, size)\n",
    "\n",
    "Y = I0 + I1 + I2 + R0 + R1 + R2\n",
    "data=pd.DataFrame({'Y':Y})\n",
    "data['I_0']=I0\n",
    "data['I_1']=I1\n",
    "data['I_2']=I2\n",
    "data['R_0']=R0\n",
    "data['R_1']=R1\n",
    "data['R_2']=R2\n",
    "data['N_0']=N0\n",
    "data['N_1']=N1\n",
    "data['N_2']=N2\n",
    "data['N_3']=N3\n",
    "\n",
    "#print (data)\n",
    "yft=data.columns.values[0]\n",
    "xft=data.columns.values[1:]"
   ]
  },
  {
   "cell_type": "code",
   "execution_count": 5,
   "metadata": {},
   "outputs": [
    {
     "name": "stdout",
     "output_type": "stream",
     "text": [
      "Random Forest fitted\n"
     ]
    }
   ],
   "source": [
    "xdata=data[xft]\n",
    "ydata=np.sign(data[yft])\n",
    "\n",
    "n_estimator=1000\n",
    "max_samples=10\n",
    "rf=DecisionTreeClassifier(criterion='entropy',max_features=1,#None,\n",
    "                          class_weight='balanced',min_weight_fraction_leaf=0.0)\n",
    "\n",
    "rf=BaggingClassifier(base_estimator=rf,n_estimators=n_estimator,max_features=1.\n",
    "                     #,max_samples=max_samples\n",
    "                     ,oob_score=True)\n",
    "\n",
    "\n",
    "rf.fit(xdata,ydata)\n",
    "print ('Random Forest fitted')\n",
    "\n",
    "numdays=len(xdata)\n",
    "base = datetime.today()\n",
    "t1 = [base - timedelta(days=x) for x in range(numdays,0,-1)]\n",
    "t1=pd.DataFrame({'t1':t1})\n",
    "t1=t1.set_index(t1.t1)\n",
    "t1['t1']=t1['t1']\n",
    "cv_gen=PurgedKFold(10,t1.t1)\n",
    "oos_score = ml_cross_val_score(rf, xdata, ydata, cv_gen=cv_gen, scoring=log_loss).mean()"
   ]
  },
  {
   "cell_type": "markdown",
   "metadata": {},
   "source": [
    "### MDI"
   ]
  },
  {
   "cell_type": "code",
   "execution_count": 6,
   "metadata": {},
   "outputs": [
    {
     "data": {
      "image/png": "[encoded data removed]",
      "text/plain": [
       "<Figure size 720x144 with 1 Axes>"
      ]
     },
     "metadata": {
      "needs_background": "light"
     },
     "output_type": "display_data"
    },
    {
     "name": "stdout",
     "output_type": "stream",
     "text": [
      "minimum importance: 0.1\n"
     ]
    }
   ],
   "source": [
    "mdi = mean_decrease_impurity(rf,xft)\n",
    "plot_feature_importance(mdi,oob_score=rf.oob_score_, oos_score=oos_score)\n",
    "print ('minimum importance:',1/len(xft))"
   ]
  },
  {
   "cell_type": "markdown",
   "metadata": {},
   "source": [
    "### MDA"
   ]
  },
  {
   "cell_type": "code",
   "execution_count": 7,
   "metadata": {},
   "outputs": [
    {
     "data": {
      "image/png": "[encoded data removed]",
      "text/plain": [
       "<Figure size 720x144 with 1 Axes>"
      ]
     },
     "metadata": {
      "needs_background": "light"
     },
     "output_type": "display_data"
    }
   ],
   "source": [
    "mda=mean_decrease_accuracy(rf,xdata,ydata,cv_gen,scoring=log_loss)\n",
    "\n",
    "plot_feature_importance(mda,oob_score=rf.oob_score_, oos_score=oos_score)\n"
   ]
  },
  {
   "cell_type": "markdown",
   "metadata": {},
   "source": [
    "### SFI"
   ]
  },
  {
   "cell_type": "raw",
   "metadata": {},
   "source": [
    "sfi=single_feature_importance(rf,xdata,ydata,cv_gen,scoring=accuracy_score)\n",
    "\n",
    "plot_feature_importance(sfi,0,0)\n"
   ]
  },
  {
   "cell_type": "markdown",
   "metadata": {},
   "source": [
    "# PCA analysis"
   ]
  },
  {
   "cell_type": "code",
   "execution_count": 8,
   "metadata": {},
   "outputs": [
    {
     "name": "stdout",
     "output_type": "stream",
     "text": [
      "Eigen values:\n",
      "\n",
      "PCA_0    896.328690\n",
      "PCA_1    256.077195\n",
      "PCA_2    198.804464\n",
      "PCA_3    190.571010\n",
      "PCA_4    176.288545\n",
      "PCA_5    166.014520\n",
      "PCA_6     73.451998\n",
      "dtype: float64\n",
      "      PCA_0     PCA_1     PCA_2     PCA_3     PCA_4     PCA_5     PCA_6\n",
      "0 -3.046276  0.855148 -1.465361  0.104714 -1.365283  0.826286  0.194319\n",
      "1 -1.318949 -0.450505 -0.409916 -0.092143 -0.958712 -0.252316 -0.834077\n",
      "2  2.893964 -0.981732 -1.201589 -0.332903 -1.096417  1.014583 -0.555877\n",
      "3 -0.100606  1.254403 -0.850362  0.668754 -0.808129 -0.578232  0.231025\n",
      "4 -1.360817  0.689848 -0.356333  0.899111  0.918712  0.929617 -1.130948\n"
     ]
    }
   ],
   "source": [
    "X=data[xft].copy()\n",
    "Z=X.sub(X.mean(), axis=1).div(X.std(), axis=1)\n",
    "ZtZ=pd.DataFrame(np.dot(Z.T,Z),index=X.columns,columns=X.columns)\n",
    "eVal,eVec=np.linalg.eigh(ZtZ)\n",
    "idx=eVal.argsort()[::-1]\n",
    "eVal=eVal[idx]\n",
    "th=0.95\n",
    "eVal,eVec=_get_eigen_vector(ZtZ, th)\n",
    "\n",
    "Xdot = pd.DataFrame(get_orthogonal_features(X,th), index=X.index).add_prefix(\"PCA_\")\n",
    "eVal=pd.Series(eVal.values,index=Xdot.columns)\n",
    "\n",
    "print ('Eigen values:\\n')\n",
    "print (eVal)\n",
    "print (Xdot.head())"
   ]
  },
  {
   "cell_type": "code",
   "execution_count": 9,
   "metadata": {},
   "outputs": [],
   "source": [
    "RANDOM_STATE=100\n",
    "n_estimator=1000\n",
    "maxsamples=1\n",
    "rf=DecisionTreeClassifier(criterion='entropy',\n",
    "                          max_features=1,#None,#1,\n",
    "                          class_weight='balanced',\n",
    "                          min_weight_fraction_leaf=0.0)\n",
    "\n",
    "rf=BaggingClassifier(base_estimator=rf,\n",
    "                     n_estimators=n_estimator,\n",
    "                     max_features=1.,\n",
    "                     #max_samples=maxsamples,\n",
    "                     oob_score=True)\n",
    "\n",
    "Y=np.sign(data[yft])\n",
    "Xpca=Xdot.copy()\n",
    "\n",
    "base = datetime.today()\n",
    "numdays=len(Xpca)\n",
    "t1 = [base - timedelta(days=x) for x in range(numdays,0,-1)]\n",
    "t1=pd.DataFrame({'t1':t1})\n",
    "t1=t1.set_index(t1.t1)\n",
    "t1['t1']=t1['t1']\n",
    "w=[1/len(cont) for x in range(numdays)]\n",
    "w=pd.DataFrame({'w':w})\n",
    "w=w.set_index(w.w)\n",
    "\n",
    "rf.fit(Xpca,Y)\n",
    "cv_gen=PurgedKFold(10,t1.t1)"
   ]
  },
  {
   "cell_type": "markdown",
   "metadata": {},
   "source": [
    "### PCA MDI"
   ]
  },
  {
   "cell_type": "code",
   "execution_count": 10,
   "metadata": {},
   "outputs": [
    {
     "data": {
      "image/png": "[encoded data removed]",
      "text/plain": [
       "<Figure size 720x100.8 with 1 Axes>"
      ]
     },
     "metadata": {
      "needs_background": "light"
     },
     "output_type": "display_data"
    },
    {
     "name": "stdout",
     "output_type": "stream",
     "text": [
      "minimum importance: 0.1\n"
     ]
    },
    {
     "data": {
      "text/plain": [
       "{'Pearson': (0.030299884310742903, 0.8362666762346944),\n",
       " 'Spearman': SpearmanrResult(correlation=0.03319072646385835, pvalue=0.8208906366682928),\n",
       " 'Kendall': KendalltauResult(correlation=0.01909008870803031, pvalue=0.8546879288277156),\n",
       " 'Weighted_Kendall_Rank': WeightedTauResult(correlation=0.15151515151515155, pvalue=nan)}"
      ]
     },
     "execution_count": 10,
     "metadata": {},
     "output_type": "execute_result"
    },
    {
     "data": {
      "image/png": "[encoded data removed]",
      "text/plain": [
       "<Figure size 432x288 with 1 Axes>"
      ]
     },
     "metadata": {
      "needs_background": "light"
     },
     "output_type": "display_data"
    }
   ],
   "source": [
    "import matplotlib.pyplot as plt\n",
    "imp = mean_decrease_impurity(rf,Xpca.columns)\n",
    "plot_feature_importance(imp,0,0)\n",
    "print ('minimum importance:',1/len(xft))\n",
    "fig,aux=plt.subplots()\n",
    "aux.scatter(eVal.loc[imp.index],imp['mean'])\n",
    "aux.set_yscale('log')\n",
    "aux.set_xscale('log')\n",
    "feature_pca_analysis(Xpca,imp)"
   ]
  },
  {
   "cell_type": "markdown",
   "metadata": {},
   "source": [
    "### PCA MDA"
   ]
  },
  {
   "cell_type": "code",
   "execution_count": 11,
   "metadata": {},
   "outputs": [
    {
     "data": {
      "image/png": "[encoded data removed]",
      "text/plain": [
       "<Figure size 720x100.8 with 1 Axes>"
      ]
     },
     "metadata": {
      "needs_background": "light"
     },
     "output_type": "display_data"
    }
   ],
   "source": [
    "#MDA\n",
    "imp=mean_decrease_accuracy(rf,Xpca,Y,cv_gen,scoring=log_loss)\n",
    "plot_feature_importance(imp,0,0)\n"
   ]
  },
  {
   "cell_type": "markdown",
   "metadata": {},
   "source": [
    "### PCA SFI"
   ]
  },
  {
   "cell_type": "raw",
   "metadata": {},
   "source": [
    "#SFI\n",
    "imp=single_feature_importance(rf,Xpca,Y,cv_gen,scoring=accuracy_score)\n",
    "plot_feature_importance(imp,0,0)\n"
   ]
  },
  {
   "cell_type": "markdown",
   "metadata": {},
   "source": [
    "# Feature analysis"
   ]
  },
  {
   "cell_type": "markdown",
   "metadata": {},
   "source": [
    "### Clustering"
   ]
  },
  {
   "cell_type": "code",
   "execution_count": 12,
   "metadata": {},
   "outputs": [
    {
     "name": "stdout",
     "output_type": "stream",
     "text": [
      "No feature/s found with low silhouette score. All features belongs to its respective clusters\n"
     ]
    },
    {
     "data": {
      "text/plain": [
       "[['I_2', 'N_0', 'N_1', 'N_2', 'N_3'], ['I_0', 'I_1', 'R_0', 'R_1', 'R_2']]"
      ]
     },
     "execution_count": 12,
     "metadata": {},
     "output_type": "execute_result"
    }
   ],
   "source": [
    "from mlfinlab.clustering.onc import get_onc_clusters\n",
    "from mlfinlab.clustering.feature_clusters import get_feature_clusters\n",
    "from sklearn.model_selection._split import KFold\n",
    "\n",
    "clusters=get_feature_clusters(data[xft]\n",
    "                              ,dependence_metric='linear'#'mutual_information'\n",
    "                              #,distance_metric='angular'#None\n",
    "                              #,linkage_method='single'#None\n",
    "                              ,n_clusters=None)\n",
    "clusters"
   ]
  },
  {
   "cell_type": "code",
   "execution_count": 13,
   "metadata": {},
   "outputs": [],
   "source": [
    "clf_base = DecisionTreeClassifier(criterion='entropy'\n",
    "                                  ,max_features=1\n",
    "                                  ,class_weight='balanced'\n",
    "                                  ,min_weight_fraction_leaf=0)\n",
    "\n",
    "clf = BaggingClassifier(base_estimator=clf_base\n",
    "                        ,n_estimators=1000\n",
    "                        ,max_features=1.\n",
    "                        ,max_samples=1.\n",
    "                        ,oob_score=True\n",
    "                        ,n_jobs=-1)\n",
    "X=data[xft]\n",
    "y=np.sign(data[yft])\n",
    "fit = clf.fit(X,y)\n",
    "cvGen = KFold(n_splits=10)\n",
    "oos_score = ml_cross_val_score(clf, X, y, cv_gen=cvGen, scoring=log_loss).mean()"
   ]
  },
  {
   "cell_type": "markdown",
   "metadata": {},
   "source": [
    "##### MDI cluster"
   ]
  },
  {
   "cell_type": "code",
   "execution_count": 14,
   "metadata": {},
   "outputs": [
    {
     "data": {
      "image/png": "[encoded data removed]",
      "text/plain": [
       "<Figure size 720x144 with 1 Axes>"
      ]
     },
     "metadata": {
      "needs_background": "light"
     },
     "output_type": "display_data"
    }
   ],
   "source": [
    "clustered_mdi_imp = mean_decrease_impurity(clf,X.columns,clustered_subsets=clusters)\n",
    "plot_feature_importance(clustered_mdi_imp,oob_score=clf.oob_score_, oos_score=oos_score)"
   ]
  },
  {
   "cell_type": "markdown",
   "metadata": {},
   "source": [
    "##### MDA cluster"
   ]
  },
  {
   "cell_type": "code",
   "execution_count": 15,
   "metadata": {},
   "outputs": [
    {
     "data": {
      "image/png": "[encoded data removed]",
      "text/plain": [
       "<Figure size 720x144 with 1 Axes>"
      ]
     },
     "metadata": {
      "needs_background": "light"
     },
     "output_type": "display_data"
    }
   ],
   "source": [
    "clustered_mda_imp = mean_decrease_accuracy(clf,X,y\n",
    "                                           ,cv_gen=cvGen\n",
    "                                           ,clustered_subsets=clusters\n",
    "                                           ,random_state=0\n",
    "                                           ,scoring=log_loss)\n",
    "plot_feature_importance(clustered_mda_imp,oob_score=clf.oob_score_, oos_score=oos_score)"
   ]
  },
  {
   "cell_type": "code",
   "execution_count": 16,
   "metadata": {},
   "outputs": [
    {
     "data": {
      "text/plain": [
       "<matplotlib.axes._subplots.AxesSubplot at 0x126093828>"
      ]
     },
     "execution_count": 16,
     "metadata": {},
     "output_type": "execute_result"
    },
    {
     "data": {
      "image/png": "[encoded data removed]",
      "text/plain": [
       "<Figure size 1152x648 with 2 Axes>"
      ]
     },
     "metadata": {
      "needs_background": "light"
     },
     "output_type": "display_data"
    }
   ],
   "source": [
    "corr0,clstrs,silh = get_onc_clusters(X.corr())\n",
    "plt.figure(figsize=(16,9))\n",
    "sns.heatmap(corr0,cmap='viridis')"
   ]
  },
  {
   "cell_type": "code",
   "execution_count": null,
   "metadata": {},
   "outputs": [],
   "source": []
  }
 ],
 "metadata": {
  "kernelspec": {
   "display_name": "Python 3",
   "language": "python",
   "name": "python3"
  },
  "language_info": {
   "codemirror_mode": {
    "name": "ipython",
    "version": 3
   },
   "file_extension": ".py",
   "mimetype": "text/x-python",
   "name": "python",
   "nbconvert_exporter": "python",
   "pygments_lexer": "ipython3",
   "version": "3.6.9"
  }
 },
 "nbformat": 4,
 "nbformat_minor": 4
}
