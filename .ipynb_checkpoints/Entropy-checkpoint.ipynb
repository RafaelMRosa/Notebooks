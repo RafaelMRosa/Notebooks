{
 "cells": [
  {
   "cell_type": "code",
   "execution_count": 66,
   "metadata": {},
   "outputs": [],
   "source": [
    "import numpy as np\n",
    "import pandas as pd\n",
    "from datetime import datetime\n",
    "from datetime import timedelta\n",
    "import matplotlib.pyplot as plt\n",
    "import feather\n",
    "import uuid\n",
    "from tqdm import tqdm\n",
    "from statsmodels.tsa.stattools import adfuller\n",
    "from statsmodels.graphics.tsaplots import plot_acf\n",
    "from mlfinlab.microstructural_features.encoding import quantile_mapping, encode_array, encode_tick_rule_array, \\\n",
    "    sigma_mapping\n",
    "from mlfinlab.microstructural_features.entropy import get_lempel_ziv_entropy, get_shannon_entropy,\\\n",
    "get_plug_in_entropy, \\\n",
    "    get_konto_entropy"
   ]
  },
  {
   "cell_type": "code",
   "execution_count": 3,
   "metadata": {},
   "outputs": [],
   "source": [
    "def log_returns(price,lag=1):\n",
    "    out=np.log(price)-np.log(price.shift(lag))\n",
    "    return out"
   ]
  },
  {
   "cell_type": "code",
   "execution_count": 5,
   "metadata": {},
   "outputs": [
    {
     "name": "stdout",
     "output_type": "stream",
     "text": [
      "Features 30 MIN/PETR4M1\n"
     ]
    }
   ],
   "source": [
    "def guid():\n",
    "    return uuid.uuid4().hex\n",
    "\n",
    "tt='PETR4M1'\n",
    "path='Features 30 MIN/'+tt.format(guid())\n",
    "print (path)\n",
    "data = feather.read_dataframe(path).set_index(['date_time'])\n",
    "data = pd.read_feather(path).set_index(['date_time'])\n",
    "\n",
    "data=pd.DataFrame(data[['close']]).loc[datetime(2018,1,1):datetime(2020,1,1)]"
   ]
  },
  {
   "cell_type": "code",
   "execution_count": 14,
   "metadata": {},
   "outputs": [],
   "source": [
    "data2=data.copy()\n",
    "data2['ret']=log_returns(data2)\n",
    "data2['series']=np.sign(data2['ret']*data2['ret'].shift(-1))\n",
    "data2=data2.dropna()"
   ]
  },
  {
   "cell_type": "markdown",
   "metadata": {},
   "source": [
    "18.3 Draw 1000 observations from a standard Normal distribution:\n",
    "(a) What is the true entropy of this process?\n"
   ]
  },
  {
   "cell_type": "markdown",
   "metadata": {},
   "source": [
    "$h=\\frac{1}{2}log(2\\pi e \\sigma^2)$"
   ]
  },
  {
   "cell_type": "code",
   "execution_count": 39,
   "metadata": {},
   "outputs": [
    {
     "name": "stdout",
     "output_type": "stream",
     "text": [
      "1.4189385332046727\n"
     ]
    }
   ],
   "source": [
    "iid=pd.DataFrame(np.random.normal(0,1,1000))\n",
    "print (0.5*np.log(2*np.pi*np.e))"
   ]
  },
  {
   "cell_type": "markdown",
   "metadata": {},
   "source": [
    "(b) Label the observations according to 8 quantiles."
   ]
  },
  {
   "cell_type": "code",
   "execution_count": 72,
   "metadata": {},
   "outputs": [],
   "source": [
    "dic=quantile_mapping(iid[0].drop_duplicates(),num_letters=8)\n",
    "msg=encode_array(iid[0],dic)"
   ]
  },
  {
   "cell_type": "markdown",
   "metadata": {},
   "source": [
    "(c) Estimate the entropy using the plug-in method.\n",
    "\n",
    "(d) Estimate the entropy using the Kontoyiannis method:\n",
    "\n",
    "    (i) using a window size of 10.\n",
    "    \n",
    "    (ii) using a window size of 100."
   ]
  },
  {
   "cell_type": "code",
   "execution_count": 79,
   "metadata": {},
   "outputs": [
    {
     "name": "stdout",
     "output_type": "stream",
     "text": [
      "2.810720345261101\n",
      "1.9786232660792495\n",
      "2.2242527123507982\n",
      "2.8104358977567756\n",
      "0.9682408185206046\n",
      "0.8432408185206046\n"
     ]
    }
   ],
   "source": [
    "print (get_plug_in_entropy(msg))\n",
    "print (get_konto_entropy(msg,10))\n",
    "print (get_konto_entropy(msg,100))\n",
    "print (get_shannon_entropy(msg))\n",
    "print (get_konto_entropy('11100001'))\n",
    "print (get_konto_entropy('01100001'))\n",
    "\n"
   ]
  },
  {
   "cell_type": "code",
   "execution_count": 100,
   "metadata": {},
   "outputs": [
    {
     "name": "stdout",
     "output_type": "stream",
     "text": [
      "0.857663690866426\n",
      "0.3399157318264644\n",
      "0.9998844148717589\n",
      "1.0\n"
     ]
    }
   ],
   "source": [
    "message = '11100001'\n",
    "message=10*message\n",
    "print (get_konto_entropy(message,2))\n",
    "print (get_konto_entropy(message))\n",
    "print (get_plug_in_entropy(message))\n",
    "print (get_shannon_entropy(message))\n"
   ]
  },
  {
   "cell_type": "code",
   "execution_count": 113,
   "metadata": {},
   "outputs": [
    {
     "name": "stdout",
     "output_type": "stream",
     "text": [
      "0.5804820237218405\n",
      "0.9682408185206046\n",
      "0.9852281360342515\n",
      "1.0\n",
      "0.396240625180289\n",
      "0.8636919408998203\n",
      "0.9967916319816366\n",
      "1.0\n"
     ]
    }
   ],
   "source": [
    "message = '11100001'\n",
    "print (get_konto_entropy(message,10))\n",
    "print (get_konto_entropy(message))\n",
    "print (get_plug_in_entropy(message))\n",
    "print (get_shannon_entropy(message))\n",
    "message=message+message[::-1]\n",
    "print (get_konto_entropy(message,10))\n",
    "print (get_konto_entropy(message))\n",
    "print (get_plug_in_entropy(message))\n",
    "print (get_shannon_entropy(message))"
   ]
  },
  {
   "cell_type": "markdown",
   "metadata": {},
   "source": [
    "18.4 Using the draws from exercise 3, {xt}t=1,…,1000:\n",
    "    (a) Compute yt = rho*yt−1 + xt, where rho = .5, y0 = 0.\n",
    "    (b) Label {yt} the observations according to 8 quantiles.\n",
    "    (c) Estimate the entropy using the plug-in method.\n",
    "    (d) Estimate the entropy using the Kontoyiannis method\n",
    "        (i) using a window size of 10.\n",
    "        (ii) using a window size of 100."
   ]
  },
  {
   "cell_type": "code",
   "execution_count": null,
   "metadata": {},
   "outputs": [
    {
     "data": {
      "image/png": "[encoded data removed]",
      "text/plain": [
       "<Figure size 432x288 with 1 Axes>"
      ]
     },
     "metadata": {
      "needs_background": "light"
     },
     "output_type": "display_data"
    },
    {
     "name": "stdout",
     "output_type": "stream",
     "text": [
      "Plug in: 2.7715783659459596\n",
      "Kontoyiannis (2): 1.2879805491832192\n",
      "Kontoyiannis (10): 1.8905811130476093\n",
      "Kontoyiannis (100): 2.125307799612995\n"
     ]
    }
   ],
   "source": [
    "#serial correlated series\n",
    "sc=[0]\n",
    "rho=0.5\n",
    "l=1000\n",
    "for i in range(0,l):\n",
    "    aux=sc[i]*rho+np.random.normal(0,1)\n",
    "    sc.append(aux)\n",
    "sc=pd.DataFrame(sc,columns=['serial correlated'])\n",
    "sc.plot()\n",
    "plt.show()\n",
    "dic=quantile_mapping(sc['serial correlated'].drop_duplicates(),num_letters=8)\n",
    "msg=encode_array(sc['serial correlated'],dic)\n",
    "print ('Plug in:',get_plug_in_entropy(msg))\n",
    "print ('Kontoyiannis (2):',get_konto_entropy(msg,2))\n",
    "print ('Kontoyiannis (10):',get_konto_entropy(msg,10))\n",
    "print ('Kontoyiannis (100):', get_konto_entropy(msg,100))\n",
    "print ('Kontoyiannis:', get_konto_entropy(msg))"
   ]
  },
  {
   "cell_type": "code",
   "execution_count": null,
   "metadata": {},
   "outputs": [],
   "source": []
  }
 ],
 "metadata": {
  "kernelspec": {
   "display_name": "Python 3",
   "language": "python",
   "name": "python3"
  },
  "language_info": {
   "codemirror_mode": {
    "name": "ipython",
    "version": 3
   },
   "file_extension": ".py",
   "mimetype": "text/x-python",
   "name": "python",
   "nbconvert_exporter": "python",
   "pygments_lexer": "ipython3",
   "version": "3.6.9"
  }
 },
 "nbformat": 4,
 "nbformat_minor": 4
}
